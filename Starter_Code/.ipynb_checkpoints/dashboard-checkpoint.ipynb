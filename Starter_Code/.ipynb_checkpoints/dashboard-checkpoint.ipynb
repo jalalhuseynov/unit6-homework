{
 "cells": [
  {
   "cell_type": "markdown",
   "metadata": {},
   "source": [
    "# Toronto Dwellings Analysis Dashboard\n",
    "\n",
    "In this notebook, you will compile the visualizations from the previous analysis into functions to create a Panel dashboard."
   ]
  },
  {
   "cell_type": "code",
   "execution_count": null,
   "metadata": {},
   "outputs": [],
   "source": [
    "# imports\n",
    "import panel as pn\n",
    "pn.extension('plotly')\n",
    "import plotly.express as px\n",
    "import pandas as pd\n",
    "import hvplot.pandas\n",
    "import matplotlib.pyplot as plt\n",
    "import os\n",
    "from pathlib import Path\n",
    "from dotenv import load_dotenv"
   ]
  },
  {
   "cell_type": "code",
   "execution_count": null,
   "metadata": {},
   "outputs": [],
   "source": [
    "# Initialize the Panel Extensions (for Plotly)\n",
    "import panel as pn\n",
    "pn.extension(\"plotly\")"
   ]
  },
  {
   "cell_type": "code",
   "execution_count": null,
   "metadata": {},
   "outputs": [],
   "source": [
    "# Read the Mapbox API key\n",
    "load_dotenv()\n",
    "map_box_api = os.getenv(\"mapbox\")\n",
    "px.set_mapbox_access_token(map_box_api)"
   ]
  },
  {
   "cell_type": "markdown",
   "metadata": {},
   "source": [
    "# Import Data"
   ]
  },
  {
   "cell_type": "code",
   "execution_count": null,
   "metadata": {},
   "outputs": [],
   "source": [
    "# Import the CSVs to Pandas DataFrames\n",
    "file_path = Path(\"Data/toronto_neighbourhoods_census_data.csv\")\n",
    "to_data = pd.read_csv(file_path, index_col=\"year\")\n",
    "\n",
    "file_path = Path(\"Data/toronto_neighbourhoods_coordinates.csv\")\n",
    "df_neighbourhood_locations = pd.read_csv(file_path)"
   ]
  },
  {
   "cell_type": "markdown",
   "metadata": {},
   "source": [
    "- - -"
   ]
  },
  {
   "cell_type": "markdown",
   "metadata": {},
   "source": [
    "## Panel Visualizations\n",
    "\n",
    "In this section, you will copy the code for each plot type from your analysis notebook and place it into separate functions that Panel can use to create panes for the dashboard. \n",
    "\n",
    "These functions will convert the plot object to a Panel pane.\n",
    "\n",
    "Be sure to include any DataFrame transformation/manipulation code required along with the plotting code.\n",
    "\n",
    "Return a Panel pane object from each function that can be used to build the dashboard.\n",
    "\n",
    "Note: Remove any `.show()` lines from the code. We want to return the plots instead of showing them. The Panel dashboard will then display the plots."
   ]
  },
  {
   "cell_type": "markdown",
   "metadata": {},
   "source": [
    "### Global available data"
   ]
  },
  {
   "cell_type": "code",
   "execution_count": null,
   "metadata": {},
   "outputs": [],
   "source": [
    "#Getting all data ready"
   ]
  },
  {
   "cell_type": "code",
   "execution_count": null,
   "metadata": {},
   "outputs": [],
   "source": [
    "# Getting the data from the top 10 expensive neighbourhoods\n",
    "average_house_value_by_neighbourhood = to_data.loc[:, [\"neighbourhood\",\"average_house_value\"]].groupby(by=[\"neighbourhood\"]).mean()\n",
    "average_house_value_by_neighbourhood_top10 = average_house_value_by_neighbourhood.sort_values('average_house_value', ascending=False).head(10)\n",
    "avg_house_price_by_neighbourhood =  to_data.loc[:, [\"neighbourhood\",\"average_house_value\"]].groupby(by=[\"neighbourhood\", \"year\"]).mean()"
   ]
  },
  {
   "cell_type": "code",
   "execution_count": null,
   "metadata": {},
   "outputs": [],
   "source": [
    "# Calculate the mean number of dwelling types units per year\n",
    "dwelling_types_mean = to_data.loc[:, \"single_detached_house\":\"other_house\"].groupby([\"year\"]).mean()\n",
    "dwelling_types_mean"
   ]
  },
  {
   "cell_type": "code",
   "execution_count": null,
   "metadata": {},
   "outputs": [],
   "source": [
    "# Calculate the sum number of dwelling types units per year (hint: use groupby)\n",
    "\n",
    "dwelling_types_sum = to_data.loc[:, \"single_detached_house\":\"other_house\"].groupby([\"year\"]).sum()\n",
    "dwelling_types_sum"
   ]
  },
  {
   "cell_type": "code",
   "execution_count": null,
   "metadata": {},
   "outputs": [],
   "source": [
    "# Calculate the average monthly shelter costs for owned and rented dwellings\n",
    "shelter_owned_rented_avg = to_data[[\"shelter_costs_owned\",\"shelter_costs_rented\"]].groupby([\"year\"]).mean()\n",
    "shelter_owned_rented_avg"
   ]
  },
  {
   "cell_type": "code",
   "execution_count": null,
   "metadata": {},
   "outputs": [],
   "source": [
    "# Calculate the average house value per year\n",
    "average_house_value = to_data[\"average_house_value\"].groupby([\"year\"]).mean()\n",
    "average_house_value"
   ]
  },
  {
   "cell_type": "code",
   "execution_count": null,
   "metadata": {},
   "outputs": [],
   "source": [
    "# Calculating average house value by neighbourhood\n",
    "average_house_value_by_neighbourhood = to_data.loc[:, [\"neighbourhood\",\"average_house_value\"]].groupby(by=[\"neighbourhood\"]).mean()\n",
    "average_house_value_by_neighbourhood_locations = pd.merge(df_neighbourhood_locations,average_house_value_by_neighbourhood, on=\"neighbourhood\")\n",
    "average_house_value_by_neighbourhood_locations"
   ]
  },
  {
   "cell_type": "markdown",
   "metadata": {},
   "source": [
    "### Panel Visualization Functions"
   ]
  },
  {
   "cell_type": "code",
   "execution_count": null,
   "metadata": {},
   "outputs": [],
   "source": [
    "# Define Panel visualization functions\n",
    "def neighbourhood_map():\n",
    "    \"\"\"Neighbourhood Map\"\"\"\n",
    "    # Join the average values with the neighbourhood locations\n",
    "\n",
    "    map = px.scatter_mapbox(average_house_value_by_neighbourhood_locations,\n",
    "                        title=\"Average House Price in Toronto\",\n",
    "                        lat=\"lat\", \n",
    "                        lon=\"lon\",     \n",
    "                        color=\"average_house_value\", \n",
    "                        size=\"average_house_value\",\n",
    "                        color_continuous_scale=px.colors.cyclical.IceFire,\n",
    "                        height=600,\n",
    "                        size_max=15, \n",
    "                        zoom=9)\n",
    "    return map\n",
    "\n",
    "def create_bar_chart(data, title, xlabel, ylabel, color):\n",
    "    \"\"\"\n",
    "    Create a barplot based in the data argument.\n",
    "    \"\"\"\n",
    "    barplot = data.hvplot.bar(\n",
    "    title= title,\n",
    "    xlabel = xlabel, \n",
    "    ylabel = ylabel,\n",
    "    color = color\n",
    "    )\n",
    "    return barplot\n",
    "    \n",
    "\n",
    "def create_line_chart(data, title, xlabel, ylabel, color):\n",
    "    \"\"\"\n",
    "    Create a line chart based in the data argument.\n",
    "    \"\"\"\n",
    "    \n",
    "    lineplot = data.hvplot.line(\n",
    "    title= title,\n",
    "    xlabel = xlabel, \n",
    "    ylabel = ylabel,\n",
    "    color = color\n",
    "    )\n",
    "    return lineplot \n",
    "\n",
    "def average_house_value():\n",
    "    \"\"\"Average house values per year.\"\"\"\n",
    "    \n",
    "    fig_avg_house_value = create_line_chart(\n",
    "        data = average_house_value,\n",
    "        title = \"Average House Value in Toronto\",\n",
    "        xlabel = \"Year\",\n",
    "        ylabel = \"Avg House Value\",\n",
    "        color = \"blue\"\n",
    "        )\n",
    "    return fig_avg_house_value\n",
    "\n",
    "def average_value_by_neighbourhood():\n",
    "    \"\"\"Average house values by neighbourhood.\"\"\"\n",
    "    \n",
    "    fig_avg_house_value_neigh = average_house_value_by_neighbourhood.hvplot(\n",
    "        title=\"Average House Values in Toronto per Neighbourhood\", \n",
    "        x='year', \n",
    "        y='average_house_value', \n",
    "        xlabel = 'Year', \n",
    "        ylabel = 'Average House Value',\n",
    "        yformatter=\"%.0f\",\n",
    "        groupby=\"neighbourhood\",\n",
    "        widget_location='right_top'\n",
    "        )\n",
    "    return fig_avg_house_value_neigh\n",
    "def number_dwelling_types():\n",
    "    \"\"\"Number of dwelling types per year\"\"\"\n",
    "    \n",
    "    dwelling_types_by_neighbourhood =  to_data.loc[:, \"neighbourhood\":\"other_house\"].groupby(by=[\"neighbourhood\", \"year\"]).mean()\n",
    "    \n",
    "    fig_number_dwelling_types = dwelling_types_by_neighbourhood.hvplot.bar(\n",
    "        title='Yearly Dwelling Unit Types Per Neighbourhood',\n",
    "        x='year', \n",
    "        rot=90,\n",
    "        xlabel = 'Year', \n",
    "        ylabel = 'Dwelling Unit Types',\n",
    "        yformatter=\"%.0f\",\n",
    "        groupby=\"neighbourhood\",\n",
    "        widget_location='right_top',\n",
    "        height=555\n",
    "        )\n",
    "    return fig_number_dwelling_types\n",
    "def average_house_value_snapshot():\n",
    "    \"\"\"Average house value for all Toronto's neighbourhoods per year.\"\"\"\n",
    "\n",
    "    avg_house_price_by_neighbourhood_reset = avg_house_price_by_neighbourhood.reset_index()\n",
    "    \n",
    "    fig_avg_house_value_snapshot = px.bar(avg_house_price_by_neighbourhood_reset, \n",
    "        title=\"Average House Values in Toronto per Neighbourhood Snapshot\", \n",
    "        x=\"neighbourhood\", \n",
    "        y=\"average_house_value\",\n",
    "        color=\"average_house_value\",\n",
    "        facet_row=\"year\",\n",
    "            labels={\n",
    "                \"average_house_value\": \"Avg. House Value\",\n",
    "                \"neighbourhood\": \"Neighbourhood\",\n",
    "                },\n",
    "        height = 900,\n",
    "        width = 900\n",
    "        )\n",
    "\n",
    "    return fig_avg_house_value_snapshot\n",
    "def top_most_expensive_neighbourhoods():\n",
    "    \"\"\"Top 10 most expensive neighbourhoods.\"\"\"\n",
    "    \n",
    "    fig_top10 = average_house_value_by_neighbourhood_top10.hvplot.bar(\n",
    "        title=\"Top 10 Most Expensive Neighbourhoods in Toronto\",\n",
    "        x='neighbourhood', \n",
    "        y='average_house_value',\n",
    "        rot=90,\n",
    "        xlabel = 'Neighbourhood', \n",
    "        ylabel = 'Avg House Value',\n",
    "        yformatter=\"%.0f\",\n",
    "        height=500,\n",
    "        width=600\n",
    "        )\n",
    "    return fig_top10\n",
    "def sunburts_cost_analysis():\n",
    "    \"\"\"Sunburst chart to conduct a costs analysis of most expensive neighbourhoods in Toronto per year.\"\"\"\n",
    "    "
   ]
  },
  {
   "cell_type": "markdown",
   "metadata": {},
   "source": [
    "## Panel Dashboard\n",
    "\n",
    "In this section, you will combine all of the plots into a single dashboard view using Panel. Be creative with your dashboard design!"
   ]
  },
  {
   "cell_type": "code",
   "execution_count": null,
   "metadata": {},
   "outputs": [],
   "source": [
    "# Create a Title for the Dashboard\n",
    "title_row = \"# Toronto Real Estate Market Data from 2001 to 2016\"\n",
    "\n",
    "\n",
    "# Define a welcome text\n",
    "welcome_text = \"This dashboard shows visual analysis of historical house values in Toronto.\"\n",
    "\n",
    "welcome_column = pn.Column(welcome_text, neighbourhood_map())\n",
    "\n",
    "yearly_market_analysis = pn.Column(\n",
    "    title_row,\n",
    "    \"## Dwelling Types in Toronto from 2001 to 2016\",\n",
    "    create_bar_chart(dwelling_types_sum.loc[2001], \"Dwelling Types in Toronto in 2001\", \"2001\", \"Dwelling Type Units\", \"blue\"),\n",
    "    create_bar_chart(dwelling_types_sum.loc[2006], \"Dwelling Types in Toronto in 2006\", \"2006\", \"Dwelling Type Units\", \"red\"),\n",
    "    create_bar_chart(dwelling_types_sum.loc[2011], \"Dwelling Types in Toronto in 2011\", \"2011\", \"Dwelling Type Units\", \"orange\"),\n",
    "    create_bar_chart(dwelling_types_sum.loc[2016], \"Dwelling Types in Toronto in 2016\", \"2016\", \"Dwelling Type Units\", \"purple\"),\n",
    ")\n",
    "\n",
    "shelter_house_costs = pn.Column(\n",
    "    title_row,\n",
    "    \"## Average Shelter Costs for Owned vs Rented vs Average House Value in Toronto from 2001 to 2016\",\n",
    "    create_line_chart(shelter_owned_rented_avg[\"shelter_costs_owned\"], \"Average Monthly Shelter Cost for Owned Dwellings in Toronto\", \"Year\", \"Avg Monthly Shelter Costs\", \"green\"),\n",
    "    create_line_chart(shelter_owned_rented_avg[\"shelter_costs_rented\"], \"Average Monthly Shelter Cost for Rented Dwellings in Toronto\", \"Year\", \"Avg Monthly Shelter Costs\", \"red\"),\n",
    ")\n",
    "\n",
    "neighbourhood_analysis = pn.Column(\n",
    "    title_row,\n",
    "    \"## Average House Values by Neighbourhood vs Dwelling Types vs in Toronto from 2001 to 2016\",\n",
    "    average_value_by_neighbourhood(),\n",
    "    average_house_value_snapshot(),\n",
    "    number_dwelling_types(),   \n",
    ")\n",
    "\n",
    "top_expensive_neighbourhoods = pn.Column(\n",
    "    title_row,\n",
    "    \"## Top 10 Neighbourhoods with Highest Average House Value vs Yearly Shelter Costs in Toronto from 2001 to 2016\",\n",
    "    average_house_value_by_neighbourhood_top10,\n",
    "        \n",
    ")\n",
    "\n",
    "#Creating tab layout for dashboard\n",
    "dashboard_tabs = pn.Tabs(\n",
    "    (\"Welcome\", welcome_column),\n",
    "    (\"Yearly Market Analysis\", yearly_market_analysis),\n",
    "    (\"Shelter Costs Vs. Avg. House Value\", shelter_house_costs),\n",
    "    (\"Neighbourhood Analysis\", neighbourhood_analysis),\n",
    "    (\"Top Expensive Neighbourhoods\", top_expensive_neighbourhoods),\n",
    ")\n",
    "\n",
    "# Create the main dashboard\n",
    "dashboard = pn.Row(pn.Column(title_row, dashboard_tabs))"
   ]
  },
  {
   "cell_type": "markdown",
   "metadata": {},
   "source": [
    "## Serve the Panel Dashboard"
   ]
  },
  {
   "cell_type": "code",
   "execution_count": null,
   "metadata": {},
   "outputs": [],
   "source": [
    "dashboard.servable()"
   ]
  },
  {
   "cell_type": "markdown",
   "metadata": {},
   "source": [
    "# Debugging\n",
    "\n",
    "Note: Some of the Plotly express plots may not render in the notebook through the panel functions.\n",
    "\n",
    "However, you can test each plot by uncommenting the following code"
   ]
  },
  {
   "cell_type": "code",
   "execution_count": null,
   "metadata": {},
   "outputs": [],
   "source": [
    "#neighbourhood_map().show()"
   ]
  },
  {
   "cell_type": "code",
   "execution_count": null,
   "metadata": {},
   "outputs": [],
   "source": [
    "# create_bar_chart(data, title, xlabel, ylabel, color)\n",
    "\n",
    "# # Bar chart for 2001\n",
    "# create_bar_chart(df_dwelling_units.loc[2001], \"Dwelling Types in Toronto in 2001\", \"2001\", \"Dwelling Type Units\", \"red\")\n",
    "\n",
    "# # Bar chart for 2006\n",
    "# create_bar_chart(df_dwelling_units.loc[2006], \"Dwelling Types in Toronto in 2006\", \"2006\", \"Dwelling Type Units\", \"blue\")\n",
    "\n",
    "# # Bar chart for 2011\n",
    "# create_bar_chart(df_dwelling_units.loc[2011], \"Dwelling Types in Toronto in 2011\", \"2011\", \"Dwelling Type Units\", \"orange\")\n",
    "\n",
    "# # Bar chart for 2016\n",
    "# create_bar_chart(df_dwelling_units.loc[2016], \"Dwelling Types in Toronto in 2016\", \"2016\", \"Dwelling Type Units\", \"magenta\")"
   ]
  },
  {
   "cell_type": "code",
   "execution_count": null,
   "metadata": {},
   "outputs": [],
   "source": [
    "# create_line_chart(data, title, xlabel, ylabel, color)\n",
    "\n",
    "# # Line chart for owned dwellings\n",
    "# create_line_chart(df_avg_costs[\"shelter_costs_owned\"], \"Average Monthly Shelter Cost for Owned Dwellings in Toronto\", \"Year\", \"Avg Monthly Shelter Costs\", \"blue\")\n",
    "\n",
    "# # Line chart for rented dwellings\n",
    "# create_line_chart(df_avg_costs[\"shelter_costs_rented\"], \"Average Monthly Shelter Cost for Rented Dwellings in Toronto\", \"Year\", \"Avg Monthly Shelter Costs\", \"orange\")"
   ]
  },
  {
   "cell_type": "code",
   "execution_count": null,
   "metadata": {},
   "outputs": [],
   "source": [
    "# average_house_value()"
   ]
  },
  {
   "cell_type": "code",
   "execution_count": null,
   "metadata": {},
   "outputs": [],
   "source": [
    "# average_value_by_neighbourhood()"
   ]
  },
  {
   "cell_type": "code",
   "execution_count": null,
   "metadata": {},
   "outputs": [],
   "source": [
    "# number_dwelling_types()"
   ]
  },
  {
   "cell_type": "code",
   "execution_count": null,
   "metadata": {},
   "outputs": [],
   "source": [
    "# average_house_value_snapshot()"
   ]
  },
  {
   "cell_type": "code",
   "execution_count": null,
   "metadata": {},
   "outputs": [],
   "source": [
    "# top_most_expensive_neighbourhoods()"
   ]
  },
  {
   "cell_type": "code",
   "execution_count": null,
   "metadata": {},
   "outputs": [],
   "source": [
    "# sunburts_cost_analysis()"
   ]
  }
 ],
 "metadata": {
  "file_extension": ".py",
  "kernelspec": {
   "display_name": "Python 3 (ipykernel)",
   "language": "python",
   "name": "python3"
  },
  "language_info": {
   "codemirror_mode": {
    "name": "ipython",
    "version": 3
   },
   "file_extension": ".py",
   "mimetype": "text/x-python",
   "name": "python",
   "nbconvert_exporter": "python",
   "pygments_lexer": "ipython3",
   "version": "3.8.8"
  },
  "mimetype": "text/x-python",
  "name": "python",
  "npconvert_exporter": "python",
  "pygments_lexer": "ipython3",
  "version": 3
 },
 "nbformat": 4,
 "nbformat_minor": 4
}
